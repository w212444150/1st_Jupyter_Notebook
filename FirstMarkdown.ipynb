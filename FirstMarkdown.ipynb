{
  "nbformat": 4,
  "nbformat_minor": 0,
  "metadata": {
    "colab": {
      "provenance": [],
      "authorship_tag": "ABX9TyNJSOw/I3C1Fp+htu//Cq07",
      "include_colab_link": true
    },
    "kernelspec": {
      "name": "python3",
      "display_name": "Python 3"
    },
    "language_info": {
      "name": "python"
    }
  },
  "cells": [
    {
      "cell_type": "markdown",
      "metadata": {
        "id": "view-in-github",
        "colab_type": "text"
      },
      "source": [
        "<a href=\"https://colab.research.google.com/github/w212444150/1st_Jupyter_Notebook/blob/main/FirstMarkdown.ipynb\" target=\"_parent\"><img src=\"https://colab.research.google.com/assets/colab-badge.svg\" alt=\"Open In Colab\"/></a>"
      ]
    },
    {
      "cell_type": "code",
      "execution_count": 6,
      "metadata": {
        "colab": {
          "base_uri": "https://localhost:8080/",
          "height": 35
        },
        "id": "IR-hZZC343jn",
        "outputId": "bfc6932e-8879-4ceb-bbfe-c79d784d3b70"
      },
      "outputs": [
        {
          "output_type": "execute_result",
          "data": {
            "text/plain": [
              "'Markdown is not directly available so I am using this for first entry.'"
            ],
            "application/vnd.google.colaboratory.intrinsic+json": {
              "type": "string"
            }
          },
          "metadata": {},
          "execution_count": 6
        }
      ],
      "source": [
        "\"Markdown is not directly available so I am using this for first entry.\""
      ]
    },
    {
      "cell_type": "markdown",
      "source": [
        "This is my first Markdown Cell entry for class."
      ],
      "metadata": {
        "id": "vkxL8lns5ILt"
      }
    },
    {
      "cell_type": "code",
      "source": [
        "print(\"Hello, World! I'm back!\")"
      ],
      "metadata": {
        "colab": {
          "base_uri": "https://localhost:8080/"
        },
        "id": "shsodc1D5QZN",
        "outputId": "3a014552-f458-44e0-9920-248479eeeeb8"
      },
      "execution_count": 7,
      "outputs": [
        {
          "output_type": "stream",
          "name": "stdout",
          "text": [
            "Hello, World! I'm back!\n"
          ]
        }
      ]
    }
  ]
}