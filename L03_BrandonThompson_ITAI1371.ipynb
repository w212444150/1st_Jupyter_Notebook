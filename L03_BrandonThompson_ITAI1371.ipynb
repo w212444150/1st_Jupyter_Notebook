{
  "nbformat": 4,
  "nbformat_minor": 0,
  "metadata": {
    "colab": {
      "provenance": [],
      "authorship_tag": "ABX9TyN3jr8Lbp9uqUcfkHSTwm+u",
      "include_colab_link": true
    },
    "kernelspec": {
      "name": "python3",
      "display_name": "Python 3"
    },
    "language_info": {
      "name": "python"
    }
  },
  "cells": [
    {
      "cell_type": "markdown",
      "metadata": {
        "id": "view-in-github",
        "colab_type": "text"
      },
      "source": [
        "<a href=\"https://colab.research.google.com/github/w212444150/My_1st_Notebook/blob/main/L03_BrandonThompson_ITAI1371.ipynb\" target=\"_parent\"><img src=\"https://colab.research.google.com/assets/colab-badge.svg\" alt=\"Open In Colab\"/></a>"
      ]
    },
    {
      "cell_type": "markdown",
      "source": [
        "**Look up the different libraries to understand what is being called and how it is being used"
      ],
      "metadata": {
        "id": "HgJ_xyjTlmy6"
      }
    },
    {
      "cell_type": "code",
      "execution_count": 31,
      "metadata": {
        "colab": {
          "base_uri": "https://localhost:8080/",
          "height": 0
        },
        "id": "hhGb3AWilAUS",
        "outputId": "b899dd5f-82ed-4242-e7fd-d2f1d74ff6d7"
      },
      "outputs": [
        {
          "output_type": "stream",
          "name": "stdout",
          "text": [
            "✅ All libraries imported successfully!\n",
            "🚀 Ready to start our machine learning journey!\n"
          ]
        }
      ],
      "source": [
        "# Import essential libraries\n",
        "import pandas as pd\n",
        "import numpy as np\n",
        "import matplotlib.pyplot as plt\n",
        "import seaborn as sns\n",
        "from sklearn.datasets import load_wine, make_classification\n",
        "from sklearn.model_selection import train_test_split\n",
        "from sklearn.linear_model import LogisticRegression\n",
        "from sklearn.tree import DecisionTreeClassifier\n",
        "from sklearn.metrics import accuracy_score, classification_report, confusion_matrix\n",
        "from sklearn.preprocessing import StandardScaler\n",
        "import warnings\n",
        "warnings.filterwarnings('ignore')\n",
        "\n",
        "# Set style for better-looking plots\n",
        "plt.style.use('default')\n",
        "sns.set_palette(\"husl\")\n",
        "\n",
        "print(\"✅ All libraries imported successfully!\")\n",
        "print(\"🚀 Ready to start our machine learning journey!\")"
      ]
    },
    {
      "cell_type": "code",
      "source": [
        "# Load the Wine dataset\n",
        "wine_data = load_wine()\n",
        "\n",
        "# Convert to DataFrame for easier handling\n",
        "df = pd.DataFrame(wine_data.data, columns=wine_data.feature_names)\n",
        "df['wine_class'] = wine_data.target\n",
        "df['wine_class_name'] = [wine_data.target_names[i] for i in wine_data.target]\n",
        "\n",
        "print(\"Dataset Information:\")\n",
        "print(f\"Shape: {df.shape}\")\n",
        "print(f\"Features: {len(wine_data.feature_names)}\")\n",
        "print(f\"Classes: {wine_data.target_names}\")\n",
        "print(f\"\\nFirst 5 rows:\")\n",
        "print(df.head())"
      ],
      "metadata": {
        "colab": {
          "base_uri": "https://localhost:8080/",
          "height": 0
        },
        "id": "OwJDsvIwlef9",
        "outputId": "19e0c6c7-faae-43c9-d23f-f33ae900cae8"
      },
      "execution_count": 32,
      "outputs": [
        {
          "output_type": "stream",
          "name": "stdout",
          "text": [
            "Dataset Information:\n",
            "Shape: (178, 15)\n",
            "Features: 13\n",
            "Classes: ['class_0' 'class_1' 'class_2']\n",
            "\n",
            "First 5 rows:\n",
            "   alcohol  malic_acid   ash  alcalinity_of_ash  magnesium  total_phenols  \\\n",
            "0    14.23        1.71  2.43               15.6      127.0           2.80   \n",
            "1    13.20        1.78  2.14               11.2      100.0           2.65   \n",
            "2    13.16        2.36  2.67               18.6      101.0           2.80   \n",
            "3    14.37        1.95  2.50               16.8      113.0           3.85   \n",
            "4    13.24        2.59  2.87               21.0      118.0           2.80   \n",
            "\n",
            "   flavanoids  nonflavanoid_phenols  proanthocyanins  color_intensity   hue  \\\n",
            "0        3.06                  0.28             2.29             5.64  1.04   \n",
            "1        2.76                  0.26             1.28             4.38  1.05   \n",
            "2        3.24                  0.30             2.81             5.68  1.03   \n",
            "3        3.49                  0.24             2.18             7.80  0.86   \n",
            "4        2.69                  0.39             1.82             4.32  1.04   \n",
            "\n",
            "   od280/od315_of_diluted_wines  proline  wine_class wine_class_name  \n",
            "0                          3.92   1065.0           0         class_0  \n",
            "1                          3.40   1050.0           0         class_0  \n",
            "2                          3.17   1185.0           0         class_0  \n",
            "3                          3.45   1480.0           0         class_0  \n",
            "4                          2.93    735.0           0         class_0  \n"
          ]
        }
      ]
    },
    {
      "cell_type": "code",
      "source": [
        "# Explore the dataset structure\n",
        "print(\"Dataset Overview:\")\n",
        "print(\"=\" * 50)\n",
        "print(f\"Total samples: {len(df)}\")\n",
        "print(f\"Features (input variables): {len(df.columns) - 2}\")  # -2 for target columns\n",
        "print(f\"Target classes: {df['wine_class_name'].unique()}\")\n",
        "print(f\"\\nClass distribution:\")\n",
        "print(df['wine_class_name'].value_counts())\n",
        "\n",
        "# Check for missing values\n",
        "print(f\"\\nMissing values: {df.isnull().sum().sum()}\")\n",
        "print(\"✅ No missing values - this is a clean dataset!\")"
      ],
      "metadata": {
        "colab": {
          "base_uri": "https://localhost:8080/",
          "height": 0
        },
        "id": "FCHaUCGdlfVi",
        "outputId": "5af6b2d7-849a-4ff0-e3f2-24f207b87580"
      },
      "execution_count": 33,
      "outputs": [
        {
          "output_type": "stream",
          "name": "stdout",
          "text": [
            "Dataset Overview:\n",
            "==================================================\n",
            "Total samples: 178\n",
            "Features (input variables): 13\n",
            "Target classes: [np.str_('class_0') np.str_('class_1') np.str_('class_2')]\n",
            "\n",
            "Class distribution:\n",
            "wine_class_name\n",
            "class_1    71\n",
            "class_0    59\n",
            "class_2    48\n",
            "Name: count, dtype: int64\n",
            "\n",
            "Missing values: 0\n",
            "✅ No missing values - this is a clean dataset!\n"
          ]
        }
      ]
    },
    {
      "cell_type": "markdown",
      "source": [
        "**Understanding the data...and the computer vision (McManus) skills recently covered used in this assignment"
      ],
      "metadata": {
        "id": "PvFg1llmoMnO"
      }
    },
    {
      "cell_type": "code",
      "source": [
        "# Visualize class distribution\n",
        "plt.figure(figsize=(12, 4))\n",
        "\n",
        "# Subplot 1: Class distribution\n",
        "plt.subplot(1, 2, 1)\n",
        "class_counts = df['wine_class_name'].value_counts()\n",
        "plt.bar(class_counts.index, class_counts.values, color=['red', 'green', 'blue'])\n",
        "plt.title('Distribution of Wine Classes')\n",
        "plt.xlabel('Wine Class')\n",
        "plt.ylabel('Number of Samples')\n",
        "plt.xticks(rotation=45)\n",
        "\n",
        "# Subplot 2: Feature correlation heatmap (first 6 features for clarity)\n",
        "plt.subplot(1, 2, 2)\n",
        "correlation_matrix = df.iloc[:, :6].corr()\n",
        "sns.heatmap(correlation_matrix, annot=True, cmap='coolwarm', center=0, fmt='.2f')\n",
        "plt.title('Feature Correlations (First 6 Features)')\n",
        "\n",
        "plt.tight_layout()\n",
        "plt.show()\n",
        "\n",
        "print(\"📊 EDA helps us understand:\")\n",
        "print(\"- Class balance (are all classes equally represented?)\")\n",
        "print(\"- Feature relationships (which features are correlated?)\")\n",
        "print(\"- Data quality (any outliers or issues?)\")"
      ],
      "metadata": {
        "colab": {
          "base_uri": "https://localhost:8080/",
          "height": 478
        },
        "id": "EWaup8kknarq",
        "outputId": "ad178428-11d0-4afe-c9ca-0963b6314a1f"
      },
      "execution_count": 34,
      "outputs": [
        {
          "output_type": "display_data",
          "data": {
            "text/plain": [
              "<Figure size 1200x400 with 3 Axes>"
            ],
            "image/png": "[encoded data removed]"
          },
          "metadata": {}
        },
        {
          "output_type": "stream",
          "name": "stdout",
          "text": [
            "📊 EDA helps us understand:\n",
            "- Class balance (are all classes equally represented?)\n",
            "- Feature relationships (which features are correlated?)\n",
            "- Data quality (any outliers or issues?)\n"
          ]
        }
      ]
    },
    {
      "cell_type": "markdown",
      "source": [
        "Part 5: 6-step ML Workflow"
      ],
      "metadata": {
        "id": "5mLEMBndpVV9"
      }
    },
    {
      "cell_type": "code",
      "source": [
        "# Step 1: Data Preparation\n",
        "print(\"Step 1: Data Preparation\")\n",
        "print(\"=\" * 30)\n",
        "\n",
        "# Select features (X) and target (y)\n",
        "# For simplicity, let's use the first 4 features\n",
        "feature_names = ['alcohol', 'malic_acid', 'ash', 'alcalinity_of_ash']\n",
        "X = df[feature_names]\n",
        "y = df['wine_class']\n",
        "\n",
        "print(f\"Selected features: {feature_names}\")\n",
        "print(f\"Feature matrix shape: {X.shape}\")\n",
        "print(f\"Target vector shape: {y.shape}\")\n",
        "\n",
        "# Display first few rows\n",
        "print(\"\\nFirst 5 samples:\")\n",
        "print(X.head())"
      ],
      "metadata": {
        "colab": {
          "base_uri": "https://localhost:8080/",
          "height": 0
        },
        "id": "TApBiTi_nwCA",
        "outputId": "fb3dec71-4457-43ed-da80-c37e07180096"
      },
      "execution_count": 35,
      "outputs": [
        {
          "output_type": "stream",
          "name": "stdout",
          "text": [
            "Step 1: Data Preparation\n",
            "==============================\n",
            "Selected features: ['alcohol', 'malic_acid', 'ash', 'alcalinity_of_ash']\n",
            "Feature matrix shape: (178, 4)\n",
            "Target vector shape: (178,)\n",
            "\n",
            "First 5 samples:\n",
            "   alcohol  malic_acid   ash  alcalinity_of_ash\n",
            "0    14.23        1.71  2.43               15.6\n",
            "1    13.20        1.78  2.14               11.2\n",
            "2    13.16        2.36  2.67               18.6\n",
            "3    14.37        1.95  2.50               16.8\n",
            "4    13.24        2.59  2.87               21.0\n"
          ]
        }
      ]
    },
    {
      "cell_type": "code",
      "source": [
        "# Step 2: Data Splitting\n",
        "print(\"Step 2: Data Splitting\")\n",
        "print(\"=\" * 30)\n",
        "\n",
        "# Split data into training (80%) and testing (20%) sets\n",
        "X_train, X_test, y_train, y_test = train_test_split(\n",
        "    X, y,\n",
        "    test_size=0.2,      # 20% for testing\n",
        "    random_state=42,    # For reproducible results\n",
        "    stratify=y          # Maintain class proportions\n",
        ")\n",
        "\n",
        "print(f\"Training set: {X_train.shape[0]} samples\")\n",
        "print(f\"Testing set: {X_test.shape[0]} samples\")\n",
        "print(f\"Training classes: {np.bincount(y_train)}\")\n",
        "print(f\"Testing classes: {np.bincount(y_test)}\")\n",
        "\n",
        "print(\"\\n🎯 Why split data?\")\n",
        "print(\"- Training set: Teach the model\")\n",
        "print(\"- Testing set: Evaluate performance on unseen data\")\n",
        "print(\"- This prevents overfitting (memorizing vs. learning)\")"
      ],
      "metadata": {
        "colab": {
          "base_uri": "https://localhost:8080/",
          "height": 0
        },
        "id": "UsClaAtrpb7r",
        "outputId": "7e2a7458-93f3-4240-923d-6ae232a98020"
      },
      "execution_count": 36,
      "outputs": [
        {
          "output_type": "stream",
          "name": "stdout",
          "text": [
            "Step 2: Data Splitting\n",
            "==============================\n",
            "Training set: 142 samples\n",
            "Testing set: 36 samples\n",
            "Training classes: [47 57 38]\n",
            "Testing classes: [12 14 10]\n",
            "\n",
            "🎯 Why split data?\n",
            "- Training set: Teach the model\n",
            "- Testing set: Evaluate performance on unseen data\n",
            "- This prevents overfitting (memorizing vs. learning)\n"
          ]
        }
      ]
    },
    {
      "cell_type": "code",
      "source": [
        "# Step 3: Model Training\n",
        "print(\"Step 3: Model Training\")\n",
        "print(\"=\" * 30)\n",
        "\n",
        "# Create and train two different models\n",
        "models = {\n",
        "    'Logistic Regression': LogisticRegression(random_state=42),\n",
        "    'Decision Tree': DecisionTreeClassifier(random_state=42, max_depth=3)\n",
        "}\n",
        "\n",
        "trained_models = {}\n",
        "\n",
        "for name, model in models.items():\n",
        "    print(f\"\\nTraining {name}...\")\n",
        "\n",
        "    # Train the model\n",
        "    model.fit(X_train, y_train)\n",
        "    trained_models[name] = model\n",
        "\n",
        "    print(f\"✅ {name} training completed!\")\n",
        "\n",
        "print(\"\\n🤖 What happened during training?\")\n",
        "print(\"- Models learned patterns from training data\")\n",
        "print(\"- They found relationships between features and wine classes\")\n",
        "print(\"- Now they can make predictions on new data!\")"
      ],
      "metadata": {
        "colab": {
          "base_uri": "https://localhost:8080/",
          "height": 0
        },
        "id": "NYZNrXaapnkf",
        "outputId": "786e1bc7-f6fa-48da-f7dc-855c54e7651f"
      },
      "execution_count": 37,
      "outputs": [
        {
          "output_type": "stream",
          "name": "stdout",
          "text": [
            "Step 3: Model Training\n",
            "==============================\n",
            "\n",
            "Training Logistic Regression...\n",
            "✅ Logistic Regression training completed!\n",
            "\n",
            "Training Decision Tree...\n",
            "✅ Decision Tree training completed!\n",
            "\n",
            "🤖 What happened during training?\n",
            "- Models learned patterns from training data\n",
            "- They found relationships between features and wine classes\n",
            "- Now they can make predictions on new data!\n"
          ]
        }
      ]
    },
    {
      "cell_type": "code",
      "source": [
        "# Step 4: Model Evaluation\n",
        "print(\"Step 4: Model Evaluation\")\n",
        "print(\"=\" * 30)\n",
        "\n",
        "results = {}\n",
        "\n",
        "for name, model in trained_models.items():\n",
        "    # Make predictions\n",
        "    y_pred = model.predict(X_test)\n",
        "\n",
        "    # Calculate accuracy\n",
        "    accuracy = accuracy_score(y_test, y_pred)\n",
        "    results[name] = accuracy\n",
        "\n",
        "    print(f\"\\n{name} Results:\")\n",
        "    print(f\"Accuracy: {accuracy:.3f} ({accuracy*100:.1f}%)\")\n",
        "\n",
        "    # Detailed classification report\n",
        "    print(\"\\nDetailed Performance:\")\n",
        "    print(classification_report(y_test, y_pred, target_names=wine_data.target_names))\n",
        "\n",
        "# Compare models\n",
        "print(\"\\n📊 Model Comparison:\")\n",
        "for name, accuracy in results.items():\n",
        "    print(f\"{name}: {accuracy:.3f}\")\n",
        "\n",
        "best_model = max(results, key=results.get)\n",
        "print(f\"\\n🏆 Best performing model: {best_model}\")"
      ],
      "metadata": {
        "colab": {
          "base_uri": "https://localhost:8080/",
          "height": 0
        },
        "id": "01z5TLfIp4Eb",
        "outputId": "dbf37f70-50d3-422f-dbfe-f924eca0215f"
      },
      "execution_count": 38,
      "outputs": [
        {
          "output_type": "stream",
          "name": "stdout",
          "text": [
            "Step 4: Model Evaluation\n",
            "==============================\n",
            "\n",
            "Logistic Regression Results:\n",
            "Accuracy: 0.889 (88.9%)\n",
            "\n",
            "Detailed Performance:\n",
            "              precision    recall  f1-score   support\n",
            "\n",
            "     class_0       1.00      1.00      1.00        12\n",
            "     class_1       0.81      0.93      0.87        14\n",
            "     class_2       0.88      0.70      0.78        10\n",
            "\n",
            "    accuracy                           0.89        36\n",
            "   macro avg       0.90      0.88      0.88        36\n",
            "weighted avg       0.89      0.89      0.89        36\n",
            "\n",
            "\n",
            "Decision Tree Results:\n",
            "Accuracy: 0.833 (83.3%)\n",
            "\n",
            "Detailed Performance:\n",
            "              precision    recall  f1-score   support\n",
            "\n",
            "     class_0       0.86      1.00      0.92        12\n",
            "     class_1       0.91      0.71      0.80        14\n",
            "     class_2       0.73      0.80      0.76        10\n",
            "\n",
            "    accuracy                           0.83        36\n",
            "   macro avg       0.83      0.84      0.83        36\n",
            "weighted avg       0.84      0.83      0.83        36\n",
            "\n",
            "\n",
            "📊 Model Comparison:\n",
            "Logistic Regression: 0.889\n",
            "Decision Tree: 0.833\n",
            "\n",
            "🏆 Best performing model: Logistic Regression\n"
          ]
        }
      ]
    },
    {
      "cell_type": "code",
      "source": [
        "# Step 5: Model Interpretation\n",
        "print(\"Step 5: Model Interpretation\")\n",
        "print(\"=\" * 30)\n",
        "\n",
        "# Visualize confusion matrix for the best model\n",
        "best_model_obj = trained_models[best_model]\n",
        "y_pred_best = best_model_obj.predict(X_test)\n",
        "\n",
        "plt.figure(figsize=(8, 6))\n",
        "cm = confusion_matrix(y_test, y_pred_best)\n",
        "sns.heatmap(cm, annot=True, fmt='d', cmap='Blues',\n",
        "            xticklabels=wine_data.target_names,\n",
        "            yticklabels=wine_data.target_names)\n",
        "plt.title(f'Confusion Matrix - {best_model}')\n",
        "plt.xlabel('Predicted Class')\n",
        "plt.ylabel('True Class')\n",
        "plt.show()\n",
        "\n",
        "print(f\"\\n🔍 Interpreting the Confusion Matrix:\")\n",
        "print(\"- Diagonal values: Correct predictions\")\n",
        "print(\"- Off-diagonal values: Misclassifications\")\n",
        "print(\"- Perfect model would have all values on diagonal\")"
      ],
      "metadata": {
        "colab": {
          "base_uri": "https://localhost:8080/",
          "height": 689
        },
        "id": "pM6bmCrq8VRT",
        "outputId": "0bec37ef-1775-446c-cedc-0f00b9c88f7e"
      },
      "execution_count": 39,
      "outputs": [
        {
          "output_type": "stream",
          "name": "stdout",
          "text": [
            "Step 5: Model Interpretation\n",
            "==============================\n"
          ]
        },
        {
          "output_type": "display_data",
          "data": {
            "text/plain": [
              "<Figure size 800x600 with 2 Axes>"
            ],
            "image/png": "[encoded data removed]"
          },
          "metadata": {}
        },
        {
          "output_type": "stream",
          "name": "stdout",
          "text": [
            "\n",
            "🔍 Interpreting the Confusion Matrix:\n",
            "- Diagonal values: Correct predictions\n",
            "- Off-diagonal values: Misclassifications\n",
            "- Perfect model would have all values on diagonal\n"
          ]
        }
      ]
    },
    {
      "cell_type": "code",
      "source": [
        "# Understanding Different Data Types in ML\n",
        "print(\"Understanding Data Types in Machine Learning\")\n",
        "print(\"=\" * 45)\n",
        "\n",
        "# Create examples of different data types\n",
        "data_examples = {\n",
        "    'Numerical (Continuous)': [23.5, 45.2, 67.8, 12.1, 89.3],\n",
        "    'Numerical (Discrete)': [1, 5, 3, 8, 2],\n",
        "    'Categorical (Nominal)': ['Red', 'Blue', 'Green', 'Red', 'Blue'],\n",
        "    'Categorical (Ordinal)': ['Low', 'Medium', 'High', 'Medium', 'Low'],\n",
        "    'Text': ['Hello world', 'Machine learning', 'Data science', 'Python programming', 'AI revolution'],\n",
        "    'Boolean': [True, False, True, True, False]\n",
        "}\n",
        "\n",
        "for data_type, examples in data_examples.items():\n",
        "    print(f\"\\n{data_type}:\")\n",
        "    print(f\"  Examples: {examples}\")\n",
        "    print(f\"  Use case: \", end=\"\")\n",
        "\n",
        "    if 'Continuous' in data_type:\n",
        "        print(\"Regression problems (predicting prices, temperatures)\")\n",
        "    elif 'Discrete' in data_type:\n",
        "        print(\"Counting problems (number of items, ratings)\")\n",
        "    elif 'Nominal' in data_type:\n",
        "        print(\"Classification without order (colors, categories)\")\n",
        "    elif 'Ordinal' in data_type:\n",
        "        print(\"Classification with order (ratings, sizes)\")\n",
        "    elif 'Text' in data_type:\n",
        "        print(\"Natural language processing (sentiment analysis, translation)\")\n",
        "    elif 'Boolean' in data_type:\n",
        "        print(\"Binary classification (yes/no, spam/not spam)\")\n",
        "\n",
        "print(\"\\n💡 Key Insight: Different data types require different preprocessing and algorithms!\")"
      ],
      "metadata": {
        "colab": {
          "base_uri": "https://localhost:8080/",
          "height": 0
        },
        "id": "pWC_Z6oa8pvi",
        "outputId": "d9fcb7b0-044d-4357-fe2a-cb8680f646bf"
      },
      "execution_count": 40,
      "outputs": [
        {
          "output_type": "stream",
          "name": "stdout",
          "text": [
            "Understanding Data Types in Machine Learning\n",
            "=============================================\n",
            "\n",
            "Numerical (Continuous):\n",
            "  Examples: [23.5, 45.2, 67.8, 12.1, 89.3]\n",
            "  Use case: Regression problems (predicting prices, temperatures)\n",
            "\n",
            "Numerical (Discrete):\n",
            "  Examples: [1, 5, 3, 8, 2]\n",
            "  Use case: Counting problems (number of items, ratings)\n",
            "\n",
            "Categorical (Nominal):\n",
            "  Examples: ['Red', 'Blue', 'Green', 'Red', 'Blue']\n",
            "  Use case: Classification without order (colors, categories)\n",
            "\n",
            "Categorical (Ordinal):\n",
            "  Examples: ['Low', 'Medium', 'High', 'Medium', 'Low']\n",
            "  Use case: Classification with order (ratings, sizes)\n",
            "\n",
            "Text:\n",
            "  Examples: ['Hello world', 'Machine learning', 'Data science', 'Python programming', 'AI revolution']\n",
            "  Use case: Natural language processing (sentiment analysis, translation)\n",
            "\n",
            "Boolean:\n",
            "  Examples: [True, False, True, True, False]\n",
            "  Use case: Binary classification (yes/no, spam/not spam)\n",
            "\n",
            "💡 Key Insight: Different data types require different preprocessing and algorithms!\n"
          ]
        }
      ]
    },
    {
      "cell_type": "markdown",
      "source": [
        "**Learn how to build a model with my selected features."
      ],
      "metadata": {
        "id": "FwsnGF3W-UfN"
      }
    },
    {
      "cell_type": "code",
      "source": [
        "# Task 1: Try different features\n",
        "print(\"Task 1: Experiment with Different Features\")\n",
        "print(\"=\" * 40)\n",
        "\n",
        "# Your task: Select 3 different features and build a model\n",
        "# Available features:\n",
        "print(\"Available features:\")\n",
        "for i, feature in enumerate(wine_data.feature_names):\n",
        "    print(f\"{i+1:2d}. {feature}\")\n",
        "\n",
        "# TODO: Replace these with your chosen features\n",
        "your_features = ['hue', 'proline', 'od280/od315_of_diluted_wines']  # Modify this list\n",
        "\n",
        "# Build model with your features\n",
        "X_your = df[your_features]\n",
        "X_train_your, X_test_your, y_train_your, y_test_your = train_test_split(\n",
        "    X_your, y, test_size=0.2, random_state=42, stratify=y\n",
        ")\n",
        "\n",
        "# Train a logistic regression model\n",
        "your_model = LogisticRegression(random_state=42)\n",
        "your_model.fit(X_train_your, y_train_your)\n",
        "\n",
        "# Evaluate\n",
        "y_pred_your = your_model.predict(X_test_your)\n",
        "your_accuracy = accuracy_score(y_test_your, y_pred_your)\n",
        "\n",
        "print(f\"\\nYour model features: {your_features}\")\n",
        "print(f\"Your model accuracy: {your_accuracy:.3f} ({your_accuracy*100:.1f}%)\")\n",
        "\n",
        "# Compare with original model\n",
        "print(f\"Original model accuracy: {results['Logistic Regression']:.3f}\")\n",
        "if your_accuracy > results['Logistic Regression']:\n",
        "    print(\"🎉 Great job! Your feature selection improved the model!\")\n",
        "else:\n",
        "    print(\"🤔 Try different features to see if you can improve performance!\")"
      ],
      "metadata": {
        "colab": {
          "base_uri": "https://localhost:8080/",
          "height": 0
        },
        "id": "nVHc4056-TC_",
        "outputId": "4c861974-c8ee-4ba9-e297-f32cddcabd69"
      },
      "execution_count": 41,
      "outputs": [
        {
          "output_type": "stream",
          "name": "stdout",
          "text": [
            "Task 1: Experiment with Different Features\n",
            "========================================\n",
            "Available features:\n",
            " 1. alcohol\n",
            " 2. malic_acid\n",
            " 3. ash\n",
            " 4. alcalinity_of_ash\n",
            " 5. magnesium\n",
            " 6. total_phenols\n",
            " 7. flavanoids\n",
            " 8. nonflavanoid_phenols\n",
            " 9. proanthocyanins\n",
            "10. color_intensity\n",
            "11. hue\n",
            "12. od280/od315_of_diluted_wines\n",
            "13. proline\n",
            "\n",
            "Your model features: ['hue', 'proline', 'od280/od315_of_diluted_wines']\n",
            "Your model accuracy: 0.917 (91.7%)\n",
            "Original model accuracy: 0.889\n",
            "🎉 Great job! Your feature selection improved the model!\n"
          ]
        }
      ]
    },
    {
      "cell_type": "code",
      "source": [
        "print(\"✓I'll code this to maintain the format:\\nFlavanoids 🍇 , magnesium and ash had similar model accuracy 💯.\\nMalic acid, ash and alcalinity of ash performed significantly worse with 0.667 (66.7%) ❌.\\nMy next model did very well (91.7%)🥳 and consisted of od280/od315_of_diluted_wines, hue and proline.\")"
      ],
      "metadata": {
        "colab": {
          "base_uri": "https://localhost:8080/",
          "height": 0
        },
        "id": "TzvwgFov_D5Z",
        "outputId": "dc9ce6da-eb8e-43ab-8597-9b1efe16b5a8"
      },
      "execution_count": 42,
      "outputs": [
        {
          "output_type": "stream",
          "name": "stdout",
          "text": [
            "✓I'll code this to maintain the format:\n",
            "Flavanoids 🍇 , magnesium and ash had similar model accuracy 💯.\n",
            "Malic acid, ash and alcalinity of ash performed significantly worse with 0.667 (66.7%) ❌.\n",
            "My next model did very well (91.7%)🥳 and consisted of od280/od315_of_diluted_wines, hue and proline.\n"
          ]
        }
      ]
    },
    {
      "cell_type": "code",
      "source": [
        "# Assessment Task 1: Identify the ML type\n",
        "print(\"Assessment Task 1: Identify Machine Learning Types\")\n",
        "print(\"=\" * 50)\n",
        "\n",
        "# For each scenario, identify if it's Supervised, Unsupervised, or Reinforcement Learning\n",
        "\n",
        "scenarios = [\n",
        "    \"Predicting house prices based on size, location, and age\",\n",
        "    \"Grouping customers by purchasing behavior without knowing groups beforehand\",\n",
        "    \"Teaching a robot to play chess by playing many games\",\n",
        "    \"Classifying emails as spam or not spam using labeled examples\",\n",
        "    \"Finding hidden topics in news articles without predefined categories\"\n",
        "]\n",
        "\n",
        "# Your answers (replace 'TYPE' with Supervised, Unsupervised, or Reinforcement)\n",
        "your_answers = [\n",
        "    \"Supervised\",      # Scenario 1\n",
        "    \"Unsupervised\",    # Scenario 2\n",
        "    \"Reinforcement\",   # Scenario 3\n",
        "    \"Supervised\",      # Scenario 4\n",
        "    \"Unsupervised\"     # Scenario 5\n",
        "]\n",
        "\n",
        "# Check answers\n",
        "correct_answers = [\"Supervised\", \"Unsupervised\", \"Reinforcement\", \"Supervised\", \"Unsupervised\"]\n",
        "\n",
        "print(\"Scenario Analysis:\")\n",
        "score = 0\n",
        "for i, (scenario, your_answer, correct) in enumerate(zip(scenarios, your_answers, correct_answers)):\n",
        "    is_correct = your_answer == correct\n",
        "    score += is_correct\n",
        "    status = \"✅\" if is_correct else \"❌\"\n",
        "    print(f\"{status} {i+1}. {scenario}\")\n",
        "    print(f\"   Your answer: {your_answer} | Correct: {correct}\")\n",
        "    print()\n",
        "\n",
        "print(f\"Score: {score}/{len(scenarios)} ({score/len(scenarios)*100:.0f}%)\")\n",
        "print(\"I noticed the scenarios were/are labeled correctly to begin with as I went through to label them.\\nNo need to change any of them.\")"
      ],
      "metadata": {
        "colab": {
          "base_uri": "https://localhost:8080/",
          "height": 0
        },
        "id": "NLJBurUbE0Dh",
        "outputId": "58b949ea-d777-4790-baed-aa90bb2f44b9"
      },
      "execution_count": 43,
      "outputs": [
        {
          "output_type": "stream",
          "name": "stdout",
          "text": [
            "Assessment Task 1: Identify Machine Learning Types\n",
            "==================================================\n",
            "Scenario Analysis:\n",
            "✅ 1. Predicting house prices based on size, location, and age\n",
            "   Your answer: Supervised | Correct: Supervised\n",
            "\n",
            "✅ 2. Grouping customers by purchasing behavior without knowing groups beforehand\n",
            "   Your answer: Unsupervised | Correct: Unsupervised\n",
            "\n",
            "✅ 3. Teaching a robot to play chess by playing many games\n",
            "   Your answer: Reinforcement | Correct: Reinforcement\n",
            "\n",
            "✅ 4. Classifying emails as spam or not spam using labeled examples\n",
            "   Your answer: Supervised | Correct: Supervised\n",
            "\n",
            "✅ 5. Finding hidden topics in news articles without predefined categories\n",
            "   Your answer: Unsupervised | Correct: Unsupervised\n",
            "\n",
            "Score: 5/5 (100%)\n",
            "I noticed the scenarios were/are labeled correctly to begin with as I went through to label them.\n",
            "No need to change any of them.\n"
          ]
        }
      ]
    },
    {
      "cell_type": "markdown",
      "source": [],
      "metadata": {
        "id": "wToX-YiiK0iG"
      }
    },
    {
      "cell_type": "markdown",
      "source": [
        "## My Reflection and Analysis\n",
        "\n",
        "** I Completed the reflection below by editing this markdown cell.\n",
        "\n",
        "### My Understanding of Machine Learning Types\n",
        "\n",
        "**Supervised Learning**: [Feeding systems large datasets so the algorithm learns to associate patterns with correct labels such as defense companies utilizing drone technology. i.e Anduril's drones and sentry towers.]\n",
        "\n",
        "**Unsupervised Learning**: [Finding patterns not easily or typically found by humans without labeled examples. Used to find irregular patterns in medical imaging to help detect diseases sooner]\n",
        "\n",
        "**Reinforcement Learning**: [Systems learn optimal strategies through trial and error and adapt over time to ever changing environments, i.e. algorithmic trading and robots performing surgeries]\n",
        "\n",
        "### My Analysis of the Wine Classification Project\n",
        "\n",
        "**Best performing model**: [Logistic Regression was the best performing model.]\n",
        "\n",
        "**Why do you think this model performed better?**: [Logistic regression is great for small datasets, particularly for predicting categories. It is not likely to memorize therefore overfitting is not an issue.]\n",
        "\n",
        "**What would you try next to improve performance?**: [I would research other features and implement or replace the data into the datasets. I would try different models such as Random Forrest, etc.]\n",
        "\n",
        "### Real-World Application Ideas\n",
        "\n",
        "**Industry of Interest**: [Agriculture]\n",
        "\n",
        "**ML Problem**: [To classify and detect plant diseases to help farmers catch problems earlier to avoid unnecessary losses. ]\n",
        "\n",
        "**Type of ML**: [Supervised]  \n",
        "\n",
        "**Data Needed**: [Thousands of images of healthy and diseased plant leaves labeled with \"healthy\" or \"type of disease\"]\n",
        "\n",
        "### Key Learnings\n",
        "\n",
        "**Most important concept learned**: [If the features do not vary much, the accuracy drops.  ]\n",
        "\n",
        "**Most challenging part**: [Understanding why some features matter more than others. It was tricky to figure out which features would help the model to perform best.]\n",
        "\n",
        "**Questions for further exploration**: How do I know which features work best without trying every combination? What other models might work better than Logistic Regression? What would happen if I were to use all 13 features instead of the 3? Would it improve accuracy?"
      ],
      "metadata": {
        "id": "Jpv8EJQdct0z"
      }
    }
  ]
}